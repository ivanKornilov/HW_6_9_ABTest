{
 "cells": [
  {
   "cell_type": "code",
   "execution_count": 2,
   "id": "cd611b6c",
   "metadata": {},
   "outputs": [],
   "source": [
    "import numpy as np\n",
    "import pandas as pd\n",
    "from statsmodels.stats.proportion import proportions_ztest"
   ]
  },
  {
   "cell_type": "code",
   "execution_count": 11,
   "id": "1dc29de8",
   "metadata": {},
   "outputs": [],
   "source": [
    "parf = pd.read_csv('c:/advacedA/parfume.csv')\n",
    "parf = parf[parf.vote <= 1]\n",
    "test = parf[parf.group == \"test\"]\n",
    "control = parf[parf.group == \"control\"]"
   ]
  },
  {
   "cell_type": "code",
   "execution_count": 27,
   "id": "f3c86069",
   "metadata": {},
   "outputs": [],
   "source": [
    "ns1 = test.vote.sum()\n",
    "ns2 = control.vote.sum()\n",
    "ntotal1 = test.size\n",
    "ntotal2 = control.size"
   ]
  },
  {
   "cell_type": "code",
   "execution_count": 29,
   "id": "f550bb38",
   "metadata": {},
   "outputs": [],
   "source": [
    "counts =  np.array([ns1, ns2])\n",
    "nobe = np.array([ntotal1, ntotal2])"
   ]
  },
  {
   "cell_type": "code",
   "execution_count": 30,
   "id": "e663dab4",
   "metadata": {},
   "outputs": [
    {
     "data": {
      "text/plain": [
       "(2.723412308530689, 0.006461136584002135)"
      ]
     },
     "execution_count": 30,
     "metadata": {},
     "output_type": "execute_result"
    }
   ],
   "source": [
    "proportions_ztest(counts, nobe)"
   ]
  },
  {
   "cell_type": "code",
   "execution_count": 31,
   "id": "7494a98f",
   "metadata": {},
   "outputs": [],
   "source": [
    "stat, pvalue = proportions_ztest(counts, nobe)"
   ]
  },
  {
   "cell_type": "code",
   "execution_count": 44,
   "id": "f3670dc4",
   "metadata": {},
   "outputs": [
    {
     "name": "stdout",
     "output_type": "stream",
     "text": [
      "pvalue= 5.107079474573853e-146\n"
     ]
    }
   ],
   "source": [
    "print(\"pvalue=\", pvalue)"
   ]
  },
  {
   "cell_type": "code",
   "execution_count": 32,
   "id": "6cc9b852",
   "metadata": {},
   "outputs": [],
   "source": [
    "# гипотезу о равенстве долей можем отвергнуть pvalue почти ноль \n",
    "# Есть значимая разница по стат тесту  - есть значимая разница - выбираем ролик ЧБ"
   ]
  }
 ],
 "metadata": {
  "kernelspec": {
   "display_name": "Python 3 (ipykernel)",
   "language": "python",
   "name": "python3"
  },
  "language_info": {
   "codemirror_mode": {
    "name": "ipython",
    "version": 3
   },
   "file_extension": ".py",
   "mimetype": "text/x-python",
   "name": "python",
   "nbconvert_exporter": "python",
   "pygments_lexer": "ipython3",
   "version": "3.8.3"
  }
 },
 "nbformat": 4,
 "nbformat_minor": 5
}
